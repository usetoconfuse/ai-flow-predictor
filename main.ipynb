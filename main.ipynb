{
 "cells": [
  {
   "metadata": {},
   "cell_type": "markdown",
   "source": [
    "# River flow predictor\n",
    "\n",
    "Create a configured dataset, select and train models"
   ],
   "id": "2c006f4277988b6b"
  },
  {
   "metadata": {
    "ExecuteTime": {
     "end_time": "2025-03-23T06:32:48.539844Z",
     "start_time": "2025-03-23T06:32:48.149444Z"
    }
   },
   "cell_type": "code",
   "source": "import ipynb.fs.full.data_processing as dp",
   "id": "b4eb28979a730778",
   "outputs": [],
   "execution_count": 1
  },
  {
   "metadata": {},
   "cell_type": "markdown",
   "source": "### Configure data processing",
   "id": "478975ddb994b5b6"
  },
  {
   "metadata": {
    "ExecuteTime": {
     "end_time": "2025-03-23T06:33:18.622113Z",
     "start_time": "2025-03-23T06:33:18.563968Z"
    }
   },
   "cell_type": "code",
   "source": [
    "raw_df = dp.read_raw_csv()\n",
    "raw_df = dp.remove_spurious_data(raw_df)\n",
    "\n",
    "# Copy the DataFrame before discarding values\n",
    "# as we will use the raw data for visualization\n",
    "main_df = raw_df.copy()\n",
    "raw_df.dropna(inplace=True)\n",
    "\n",
    "# Lag all predictors by 1 day\n",
    "for col in main_df.columns.values:\n",
    "    if col[1] != \"p\":\n",
    "        main_df = dp.lag_column(main_df, col, 1)\n",
    "\n",
    "# Remove rows with empty data\n",
    "main_df.dropna(inplace=True)\n",
    "\n",
    "main_df = dp.split_data(main_df, 0.6, 0.2, 0.2)\n",
    "main_df = dp.standardise_data(main_df, 0.1, 0.9)\n",
    "print(main_df.sample(frac=0.01).to_string())"
   ],
   "id": "7b77515902b2166e",
   "outputs": [
    {
     "name": "stdout",
     "output_type": "stream",
     "text": [
      "type                       f                             r                                       f\n",
      "src                 f1 (t-1)  f2 (t-1)  f3 (t-1)  r1 (t-1)  r2 (t-1)  r3 (t-1)  r4 (t-1)         p\n",
      "dataset date                                                                                      \n",
      "trn     1996-11-25  0.107971  0.125866  0.101323  0.114103  0.207536  0.248582  0.161301  0.154881\n",
      "        1995-12-04  0.106723  0.105118  0.095129  0.119787  0.350531  0.196475  0.122276  0.156688\n",
      "        1995-03-10  0.149157  0.196401  0.133322  0.085684  0.080000  0.116782  0.096260  0.230530\n",
      "        1995-08-08  0.081652  0.080778  0.080763  0.080000  0.080000  0.080000  0.080000  0.082235\n",
      "        1994-10-23  0.136676  0.120268  0.136192  0.136838  0.211401  0.288429  0.148293  0.296853\n",
      "test    1996-06-24  0.086093  0.088051  0.083199  0.080000  0.080000  0.080000  0.080000  0.088696\n",
      "trn     1993-11-17  0.158701  0.139460  0.105870  0.080000  0.080000  0.080000  0.080000  0.159633\n",
      "        1993-01-21  0.248634  0.272633  0.226702  0.102735  0.080000  0.153563  0.187317  0.349055\n",
      "        1993-09-21  0.134474  0.180463  0.115214  0.125471  0.130242  0.303755  0.252358  0.177524\n",
      "        1994-10-30  0.113918  0.120137  0.110325  0.080000  0.087729  0.104521  0.093008  0.139689\n",
      "test    1995-11-30  0.109880  0.089848  0.098782  0.082842  0.083865  0.092261  0.083252  0.119165\n",
      "trn     1994-03-20  0.144018  0.173573  0.136128  0.085684  0.080000  0.083065  0.080000  0.174691\n",
      "        1996-04-09  0.102722  0.097713  0.090692  0.080000  0.080000  0.086130  0.112520  0.108189\n",
      "val     1996-03-25  0.154663  0.136119  0.124368  0.080000  0.080000  0.092261  0.080000  0.174490\n"
     ]
    }
   ],
   "execution_count": 4
  }
 ],
 "metadata": {
  "kernelspec": {
   "display_name": "Python 3",
   "language": "python",
   "name": "python3"
  },
  "language_info": {
   "codemirror_mode": {
    "name": "ipython",
    "version": 2
   },
   "file_extension": ".py",
   "mimetype": "text/x-python",
   "name": "python",
   "nbconvert_exporter": "python",
   "pygments_lexer": "ipython2",
   "version": "2.7.6"
  }
 },
 "nbformat": 4,
 "nbformat_minor": 5
}
