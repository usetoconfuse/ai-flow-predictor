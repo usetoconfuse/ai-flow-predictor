{
 "cells": [
  {
   "metadata": {},
   "cell_type": "markdown",
   "source": [
    "# Flow predictor\n",
    "\n",
    "Data processing, model training and analysis"
   ],
   "id": "821573af85a9827"
  },
  {
   "metadata": {
    "ExecuteTime": {
     "end_time": "2025-03-18T22:03:33.433578Z",
     "start_time": "2025-03-18T22:03:33.081540Z"
    }
   },
   "cell_type": "code",
   "source": [
    "import numpy as np\n",
    "import scipy as sp\n",
    "import pandas as pd"
   ],
   "id": "1a57309d43813903",
   "outputs": [],
   "execution_count": 1
  },
  {
   "metadata": {},
   "cell_type": "markdown",
   "source": "## Data pre-processing",
   "id": "50c59b0a16142f2"
  },
  {
   "metadata": {
    "ExecuteTime": {
     "end_time": "2025-03-18T22:05:52.787982Z",
     "start_time": "2025-03-18T22:05:52.665894Z"
    }
   },
   "cell_type": "code",
   "source": [
    "# Initialise DataFrame and discard non-numeric data\n",
    "df = pd.read_excel(\"data.xlsx\", header=[0, 1], index_col=0)\n",
    "\n",
    "df.columns = df.columns.set_levels([\"rain\", \"flow\"], level=0)\n",
    "df = df.rename_axis(index=\"date\")\n",
    "\n",
    "df = df.apply(pd.to_numeric, errors=\"coerce\")\n",
    "\n",
    "\n",
    "# Data cleaning\n",
    "\n",
    "print(\"\\n================== INITIAL DATA ==================\\n\")\n",
    "print(df.describe().to_string())\n",
    "\n",
    "df = df[df >= 0]\n",
    "df[\"rain\"] = df[\"rain\"][df[\"rain\"]<=279]\n",
    "df = df[np.abs(df - df.std()) <= 5 * df.std()]\n",
    "\n",
    "print(\"\\n================== AFTER PROCESSING ==================\\n\")\n",
    "print(df.describe().to_string())"
   ],
   "id": "23c0dfe2abb106e0",
   "outputs": [
    {
     "name": "stdout",
     "output_type": "stream",
     "text": [
      "\n",
      "================== INITIAL DATA ==================\n",
      "\n",
      "              flow                                                 rain                                        \n",
      "         Crakehill  Skip Bridge    Westwick      Skelton Arkengarthdale  East Cowton   Malham Tarn  Snaizeholme\n",
      "count  1461.000000  1460.000000  1461.00000  1460.000000    1461.000000  1460.000000   1461.000000  1461.000000\n",
      "mean     17.519213     6.929692    21.59704    47.093886       8.519233    11.466301     68.896920     9.725394\n",
      "std      52.587125    28.182097    28.35579    55.712853     133.950452   235.722765   2092.760651    20.984849\n",
      "min    -999.000000  -999.000000     1.95400     3.694000    -999.000000     0.000000      0.000000     0.000000\n",
      "25%       5.220000     2.166000     5.67300    12.442500       0.000000     0.000000      0.000000     0.000000\n",
      "50%      10.100000     3.494500    10.39100    24.260000       0.800000     0.000000      1.600000     0.800000\n",
      "75%      21.900000     8.892250    26.73600    59.357500       6.400000     5.600000     18.400000    10.400000\n",
      "max     220.000000    80.244000   374.06100   448.100000    5000.000000  9000.000000  80000.000000   268.800000\n",
      "\n",
      "================== AFTER PROCESSING ==================\n",
      "\n",
      "              flow                                                  rain                                       \n",
      "         Crakehill  Skip Bridge     Westwick      Skelton Arkengarthdale  East Cowton  Malham Tarn  Snaizeholme\n",
      "count  1448.000000  1451.000000  1456.000000  1457.000000    1451.000000  1452.000000  1453.000000  1451.000000\n",
      "mean     18.559095     7.280232    20.820951    46.403208       5.150655     4.821488    13.314246     8.699931\n",
      "std      21.903246     8.925199    24.702728    53.603684       9.552589     9.867119    22.095127    16.646909\n",
      "min       2.060000     1.002000     1.954000     3.694000       0.000000     0.000000     0.000000     0.000000\n",
      "25%       5.215000     2.158500     5.663750    12.420000       0.000000     0.000000     0.000000     0.000000\n",
      "50%      10.000000     3.479000    10.354500    24.240000       0.800000     0.000000     1.600000     0.800000\n",
      "75%      21.450000     8.754500    26.500750    59.050000       6.400000     4.800000    17.600000    10.400000\n",
      "max     142.000000    57.874000   167.891000   319.600000      69.600000    71.200000   149.600000   120.400000\n"
     ]
    }
   ],
   "execution_count": 3
  }
 ],
 "metadata": {
  "kernelspec": {
   "name": "python3",
   "language": "python",
   "display_name": "Python 3 (ipykernel)"
  }
 },
 "nbformat": 5,
 "nbformat_minor": 9
}
