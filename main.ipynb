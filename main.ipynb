{
 "cells": [
  {
   "metadata": {},
   "cell_type": "markdown",
   "source": [
    "# Flow predictor\n",
    "\n",
    "Data processing, model training and analysis"
   ],
   "id": "821573af85a9827"
  },
  {
   "metadata": {},
   "cell_type": "code",
   "source": [
    "%matplotlib widget\n",
    "import numpy as np\n",
    "import scipy as sp\n",
    "import pandas as pd\n",
    "import matplotlib.pyplot as plt\n",
    "from matplotlib.widgets import Slider, RadioButtons"
   ],
   "id": "1a57309d43813903",
   "outputs": [],
   "execution_count": null
  },
  {
   "metadata": {},
   "cell_type": "markdown",
   "source": "## Data pre-processing",
   "id": "50c59b0a16142f2"
  },
  {
   "metadata": {},
   "cell_type": "code",
   "source": [
    "# Initialise DataFrame and discard non-numeric data\n",
    "initial_df = pd.read_excel(\"data.xlsx\", header=[0, 1], index_col=0)\n",
    "\n",
    "initial_df.columns = initial_df.columns.set_levels([\"rain\", \"flow\"], level=0)\n",
    "initial_df = initial_df.rename_axis(index=\"date\")\n",
    "\n",
    "initial_df = initial_df.apply(pd.to_numeric, errors=\"coerce\")\n",
    "initial_df = initial_df[initial_df >= 0]\n",
    "initial_df[\"rain\"] = initial_df[\"rain\"][initial_df[\"rain\"]<=279]\n",
    "initial_df.dropna(inplace=True)\n",
    "\n",
    "\n",
    "# Copy data as we will use the initial frame for visualization\n",
    "df = initial_df\n",
    "df = df[np.abs(df - df.std()) <= df.mean() + 3 * df.std()]\n",
    "\n",
    "\n",
    "df.dropna(inplace=True)\n"
   ],
   "id": "23c0dfe2abb106e0",
   "outputs": [],
   "execution_count": null
  },
  {
   "metadata": {},
   "cell_type": "markdown",
   "source": "## Data visualization",
   "id": "6c156782109bb9d9"
  },
  {
   "metadata": {},
   "cell_type": "code",
   "source": [
    "plt.close(\"all\")\n",
    "\n",
    "print(\"\\n================== INITIAL DATA ==================\\n\")\n",
    "print(initial_df.describe().to_string())\n",
    "\n",
    "print(\"\\n================== CULLING BY STD DEVS ==================\\n\")\n",
    "\n",
    "# Line graph showing flow/rain datasets after culling with different std dev values\n",
    "\n",
    "# Initial graph - flow data with no culling\n",
    "fig, ax_graph = plt.subplots()\n",
    "ax_buttons = fig.add_axes([0.2, 0.05, 0.15, 0.1])\n",
    "ax_slider = fig.add_axes([0.6, 0.12, 0.3, 0.03])\n",
    "initial_df[\"flow\"].plot(ax=ax_graph, title=f\"Flow data - no culling - {initial_df.shape[0]} rows\")\n",
    "\n",
    "\n",
    "\n",
    "# Radio buttons for flow/rain\n",
    "\n",
    "dataset_radio = RadioButtons(ax=ax_buttons, labels=[\"Flow\", \"Rain\"])\n",
    "\n",
    "\n",
    "\n",
    "# Slider for # of std devs\n",
    "\n",
    "sd_slider = Slider(ax=ax_slider, label=\"Cutoff # of std devs (8=none)\",\n",
    "                   valmin=1, valmax=8, valinit=8, valstep=1)\n",
    "\n",
    "\n",
    "def update(val):\n",
    "    dataset = dataset_radio.value_selected\n",
    "    sd = sd_slider.val\n",
    "\n",
    "    data = initial_df\n",
    "    title_text = f\"{dataset} data - no culling - {data.shape[0]} rows\"\n",
    "    if sd != 8:\n",
    "        data = data[np.abs(data - data.std()) <= data.mean() + sd * data.std()]\n",
    "        data.dropna(inplace=True)\n",
    "        title_text = f\"{dataset} data - culling values >{sd} std devs from mean - {data.shape[0]} rows\"\n",
    "\n",
    "    ax_graph.clear()\n",
    "    data[dataset.lower()].plot(ax=ax_graph, title=title_text)\n",
    "    fig.subplots_adjust(bottom=0.25)\n",
    "    fig.canvas.draw()\n",
    "\n",
    "\n",
    "dataset_radio.on_clicked(update)\n",
    "sd_slider.on_changed(update)\n",
    "\n",
    "\n",
    "\n",
    "# Figure styling\n",
    "fig.subplots_adjust(bottom=0.25)\n",
    "fig.set_size_inches((12, 8))\n",
    "fig.canvas.header_visible = False"
   ],
   "id": "8026ab8172e910fd",
   "outputs": [],
   "execution_count": null
  }
 ],
 "metadata": {
  "kernelspec": {
   "name": "python3",
   "language": "python",
   "display_name": "Python 3 (ipykernel)"
  }
 },
 "nbformat": 5,
 "nbformat_minor": 9
}
